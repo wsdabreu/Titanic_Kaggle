{
  "nbformat": 4,
  "nbformat_minor": 0,
  "metadata": {
    "colab": {
      "name": "Titanic Kaggle.ipynb",
      "provenance": [],
      "authorship_tag": "ABX9TyPKBxKGi+8tOjNqyIS1Ym0Q",
      "include_colab_link": true
    },
    "kernelspec": {
      "name": "python3",
      "display_name": "Python 3"
    }
  },
  "cells": [
    {
      "cell_type": "markdown",
      "metadata": {
        "id": "view-in-github",
        "colab_type": "text"
      },
      "source": [
        "<a href=\"https://colab.research.google.com/github/wsdabreu/Titanic_Kaggle/blob/master/Titanic_Kaggle.ipynb\" target=\"_parent\"><img src=\"https://colab.research.google.com/assets/colab-badge.svg\" alt=\"Open In Colab\"/></a>"
      ]
    },
    {
      "cell_type": "code",
      "metadata": {
        "id": "3UybHpzatGMR",
        "colab_type": "code",
        "colab": {}
      },
      "source": [
        "# Titanic Kaggle  "
      ],
      "execution_count": 0,
      "outputs": []
    },
    {
      "cell_type": "markdown",
      "metadata": {
        "id": "bmBU_4nouu5S",
        "colab_type": "text"
      },
      "source": [
        ""
      ]
    },
    {
      "cell_type": "code",
      "metadata": {
        "id": "x1V-HS-NtLsD",
        "colab_type": "code",
        "colab": {}
      },
      "source": [
        "## 1. Target and description\n",
        "The main objective is create a model to sorts, who people are more likely to survive in the titanic accident."
      ],
      "execution_count": 0,
      "outputs": []
    },
    {
      "cell_type": "markdown",
      "metadata": {
        "id": "MsGAaMsLvE0d",
        "colab_type": "text"
      },
      "source": [
        ""
      ]
    },
    {
      "cell_type": "code",
      "metadata": {
        "id": "8Ur-NYKfvb2u",
        "colab_type": "code",
        "colab": {}
      },
      "source": [
        "import pandas as pd #Data manipulation\n",
        "import numpy as np #Linear algebra"
      ],
      "execution_count": 0,
      "outputs": []
    },
    {
      "cell_type": "code",
      "metadata": {
        "id": "o_zsIW2qvl9k",
        "colab_type": "code",
        "colab": {}
      },
      "source": [
        ""
      ],
      "execution_count": 0,
      "outputs": []
    }
  ]
}